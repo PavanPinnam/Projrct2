{
 "cells": [
  {
   "cell_type": "code",
   "execution_count": 9,
   "id": "8077651b",
   "metadata": {},
   "outputs": [
    {
     "name": "stdout",
     "output_type": "stream",
     "text": [
      "Hierarchical Clustering:\n",
      "cluster      0  1\n",
      "diagnosis        \n",
      "B          357  0\n",
      "M          210  2\n"
     ]
    },
    {
     "name": "stderr",
     "output_type": "stream",
     "text": [
      "C:\\Users\\pavan\\anaconda3\\Lib\\site-packages\\sklearn\\cluster\\_kmeans.py:1436: UserWarning: KMeans is known to have a memory leak on Windows with MKL, when there are less chunks than available threads. You can avoid it by setting the environment variable OMP_NUM_THREADS=3.\n",
      "  warnings.warn(\n"
     ]
    },
    {
     "name": "stdout",
     "output_type": "stream",
     "text": [
      "\n",
      "K-means Clustering:\n",
      "cluster      0    1\n",
      "diagnosis          \n",
      "B          343   14\n",
      "M           37  175\n"
     ]
    }
   ],
   "source": [
    "import os\n",
    "os.environ[\"OMP_NUM_THREADS\"]=\"3\"\n",
    "import pandas as pd\n",
    "from sklearn.preprocessing import StandardScaler\n",
    "from scipy.cluster.hierarchy import linkage, dendrogram, cut_tree\n",
    "from sklearn.cluster import KMeans\n",
    "from sklearn.metrics import confusion_matrix\n",
    "\n",
    "\n",
    "# Load the dataset\n",
    "data = pd.read_csv(\"wisc_bc_ContinuousVar.csv\")\n",
    "\n",
    "# Remove rows with missing values\n",
    "data = data.dropna()\n",
    "\n",
    "# Extract features for clustering (excluding diagnosis column)\n",
    "features = data.drop(\"diagnosis\", axis=1)\n",
    "\n",
    "# Standardize the features\n",
    "scaler = StandardScaler()\n",
    "scaled_features = scaler.fit_transform(features)\n",
    "\n",
    "# 9.1 Hierarchical Clustering\n",
    "hclust_result = linkage(scaled_features, method='complete')\n",
    "cut_tree_result = cut_tree(hclust_result, n_clusters=2).flatten()\n",
    "\n",
    "# Tabulate clustered rows against the \"diagnosis\" column\n",
    "hclust_clusters = pd.DataFrame({'diagnosis': data['diagnosis'], 'cluster': cut_tree_result})\n",
    "confusion_matrix_hclust = pd.crosstab(hclust_clusters['diagnosis'], hclust_clusters['cluster'])\n",
    "print(\"Hierarchical Clustering:\")\n",
    "print(confusion_matrix_hclust)\n",
    "\n",
    "# 9.2 K-means Clustering\n",
    "kmeans = KMeans(n_clusters=2, random_state=42,n_init=10)\n",
    "kmeans_result = kmeans.fit_predict(scaled_features)\n",
    "\n",
    "# Tabulate clustered rows against the \"diagnosis\" column\n",
    "kmeans_clusters = pd.DataFrame({'diagnosis': data['diagnosis'], 'cluster': kmeans_result})\n",
    "confusion_matrix_kmeans = pd.crosstab(kmeans_clusters['diagnosis'], kmeans_clusters['cluster'])\n",
    "print(\"\\nK-means Clustering:\")\n",
    "print(confusion_matrix_kmeans)\n"
   ]
  },
  {
   "cell_type": "code",
   "execution_count": null,
   "id": "b85428d1",
   "metadata": {},
   "outputs": [],
   "source": []
  }
 ],
 "metadata": {
  "kernelspec": {
   "display_name": "Python 3 (ipykernel)",
   "language": "python",
   "name": "python3"
  },
  "language_info": {
   "codemirror_mode": {
    "name": "ipython",
    "version": 3
   },
   "file_extension": ".py",
   "mimetype": "text/x-python",
   "name": "python",
   "nbconvert_exporter": "python",
   "pygments_lexer": "ipython3",
   "version": "3.11.5"
  }
 },
 "nbformat": 4,
 "nbformat_minor": 5
}
